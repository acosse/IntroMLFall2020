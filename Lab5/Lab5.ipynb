{
 "cells": [
  {
   "cell_type": "markdown",
   "metadata": {},
   "source": [
    "## Week 5: Introduction to neural Networks"
   ]
  },
  {
   "cell_type": "code",
   "execution_count": null,
   "metadata": {
    "collapsed": true
   },
   "outputs": [],
   "source": [
    "Solutions"
   ]
  },
  {
   "cell_type": "markdown",
   "metadata": {},
   "source": [
    "### Perceptron learning rule"
   ]
  },
  {
   "cell_type": "markdown",
   "metadata": {},
   "source": [
    "This week, we will start working with neural networks. For each of the exercises below you can use the method of your choice but you should display the final boundary of your classifier."
   ]
  },
  {
   "cell_type": "markdown",
   "metadata": {},
   "source": [
    "#### Exercise 1. \n",
    "As a first exercise, load the binary dataset below and code a few steps of the perceptron learning rule. "
   ]
  },
  {
   "cell_type": "code",
   "execution_count": 208,
   "metadata": {},
   "outputs": [
    {
     "data": {
      "image/png": "[encoded data removed]",
      "text/plain": [
       "<Figure size 432x288 with 1 Axes>"
      ]
     },
     "metadata": {},
     "output_type": "display_data"
    },
    {
     "name": "stdout",
     "output_type": "stream",
     "text": [
      " 2\n",
      "3\n",
      "4\n",
      "5\n",
      "6\n",
      "7\n",
      "8\n",
      "9\n",
      "10\n",
      "11\n",
      "12\n",
      "13\n",
      "14\n",
      "15\n",
      "16\n",
      "17\n",
      "18\n",
      "19\n",
      "20\n",
      "21\n",
      "22\n",
      "23\n",
      "24\n",
      "25\n",
      "26\n",
      "27\n",
      "28\n",
      "29\n",
      "30\n",
      "31\n",
      "32\n",
      "33\n",
      "34\n",
      "35\n",
      "36\n",
      "37\n",
      "38\n",
      "39\n",
      "40\n",
      "41\n",
      "42\n",
      "43\n",
      "44\n",
      "45\n",
      "46\n",
      "47\n",
      "48\n",
      "49\n",
      "50\n",
      "51\n",
      "52\n",
      "53\n",
      "54\n",
      "55\n",
      "56\n",
      "57\n",
      "58\n",
      "59\n",
      "60\n",
      "61\n",
      "62\n",
      "63\n",
      "64\n",
      "65\n",
      "66\n",
      "67\n",
      "68\n",
      "69\n",
      "70\n",
      "71\n",
      "72\n",
      "73\n",
      "74\n",
      "75\n",
      "76\n",
      "77\n",
      "78\n",
      "79\n",
      "80\n",
      "81\n",
      "82\n",
      "83\n",
      "84\n",
      "85\n",
      "86\n",
      "87\n",
      "88\n",
      "89\n",
      "90\n",
      "91\n",
      "92\n",
      "93\n",
      "94\n",
      "95\n",
      "96\n",
      "97\n",
      "98\n",
      "99\n",
      "100\n"
     ]
    }
   ],
   "source": [
    "import scipy.io as sio\n",
    "data1 = sio.loadmat('perceptron_data_class1.mat')\n",
    "data2 = sio.loadmat('perceptron_data_class2.mat')\n",
    "\n",
    "from numpy import linalg as LA\n",
    "\n",
    "data1 = data1['perceptron_data_class1']\n",
    "data2 = data2['perceptron_data_class2']\n",
    "\n",
    "# put your code here\n",
    "\n",
    "sz1 = np.shape(data1)\n",
    "sz2 = np.shape(data2)\n",
    "\n",
    "targetsClass1 = np.ones((sz1[0],))\n",
    "targetsClass2 = -1 * np.ones((sz2[0],))\n",
    "\n",
    "total_targets = np.hstack((targetsClass1, targetsClass2))\n",
    "total_data = np.vstack((data1, data2))\n",
    "\n",
    "\n",
    "max_iter = 100\n",
    "\n",
    "sigma = 1\n",
    "beta = np.random.normal(0, 1, (2,))\n",
    "beta0 = np.random.normal(0, 1, 1)\n",
    "\n",
    "\n",
    "eta = .1\n",
    "iter_num = 1\n",
    "\n",
    "\n",
    "\n",
    "plt.scatter(data1[:,0], data1[:,1], facecolor='blue')\n",
    "plt.scatter(data2[:,0], data2[:,1], facecolor='red')\n",
    "\n",
    "\n",
    "\n",
    "#while any(condition_tmp<0):\n",
    "while iter_num < 100:\n",
    "    \n",
    "    \n",
    "    condition_tmp = np.multiply(np.dot(beta,total_data.T) + beta0,total_targets) \n",
    "    out_tmp = np.vstack((condition_tmp, condition_tmp))\n",
    "    out_tmp = out_tmp.T\n",
    "    \n",
    "    target_tmp = np.vstack((total_targets, total_targets))\n",
    "    \n",
    "    gradient_beta = np.multiply(target_tmp.T,total_data)\n",
    "    gradient_beta = gradient_beta[condition_tmp<0, :]\n",
    "    gradient_beta = np.sum(gradient_beta, axis=0)\n",
    "\n",
    "    gradient_beta0 = np.sum(total_targets[condition_tmp<0], axis = 0)\n",
    "    gradient = np.hstack((gradient_beta, gradient_beta0))\n",
    "    gradient = gradient/LA.norm(gradient)\n",
    "    \n",
    "    betaTotal = np.hstack((beta, beta0))\n",
    "    \n",
    "    betaTotal = betaTotal + eta*gradient\n",
    "    \n",
    "    iter_num +=1\n",
    "    print(iter_num)\n",
    "    \n",
    "    \n",
    "    \n",
    "    \n",
    " "
   ]
  },
  {
   "cell_type": "markdown",
   "metadata": {},
   "source": [
    "#### Exercise 2.\n",
    "\n",
    "__2a.__ Load the data below. Using the neural_network module from scikit-learn and its MLPClassifier model, learn a classifier, for the dataset below using \n",
    "\n",
    "- One hidden layer with a linear activation function and \n",
    "    - One neuron\n",
    "    - Two neurons\n",
    "    \n",
    "    \n",
    "    \n",
    "- One hidden layer with a non linear activation function (take Relu for example or a binary step)\n",
    "    - One neuron\n",
    "    - Two neurons\n",
    "\n",
    "How many neurons, hidden layers do you need to learn the distribution of the data? Do you have an idea why?\n",
    "\n",
    "Try increasing the number of neurons and hidden layers. Then try different values of the learning rate. \n"
   ]
  },
  {
   "cell_type": "code",
   "execution_count": 160,
   "metadata": {},
   "outputs": [
    {
     "name": "stdout",
     "output_type": "stream",
     "text": [
      "172\n",
      "195\n",
      "(172,)\n",
      "(195,)\n",
      "(367,)\n"
     ]
    },
    {
     "data": {
      "image/png": "[encoded data removed]",
      "text/plain": [
       "<Figure size 432x288 with 1 Axes>"
      ]
     },
     "metadata": {},
     "output_type": "display_data"
    }
   ],
   "source": [
    "## 1) This is the solution for the one neuron exercise\n",
    "\n",
    "\n",
    "\n",
    "import scipy.io as sio\n",
    "data1 = sio.loadmat('neural_net_class1.mat')\n",
    "data2 = sio.loadmat('neural_net_class2.mat')\n",
    "\n",
    "data1 = data1['neural_net_class1']\n",
    "data2 = data2['neural_net_class2']\n",
    "\n",
    "from sklearn.neural_network import MLPClassifier\n",
    "\n",
    "# put your code here\n",
    "\n",
    "import matplotlib.pyplot as plt\n",
    "import numpy as np\n",
    "\n",
    "\n",
    "sz1 = np.shape(data1)\n",
    "print(sz1[0])\n",
    "sz2 = np.shape(data2)\n",
    "print(sz2[0])\n",
    "\n",
    "\n",
    "targetsClass1 = np.ones((sz1[0],))\n",
    "targetsClass2 = -1 * np.ones((sz2[0],))\n",
    "\n",
    "print(np.shape(targetsClass1))\n",
    "print(np.shape(targetsClass2))\n",
    "\n",
    "\n",
    "total_targets = np.hstack((targetsClass1, targetsClass2))\n",
    "\n",
    "print(np.shape(total_targets))\n",
    "\n",
    "total_data = np.vstack((data1, data2))\n",
    "\n",
    "from sklearn.neural_network import MLPClassifier\n",
    "\n",
    "my_classifier = MLPClassifier(hidden_layer_sizes = 1, activation = 'identity')\n",
    "\n",
    "my_classifier.fit(total_data, total_targets)\n",
    "\n",
    "\n",
    "from matplotlib.colors import ListedColormap\n",
    "# plot the decision surface\n",
    "    \n",
    "colors = ('red', 'blue', 'lightgreen', 'gray', 'cyan')\n",
    "cmap = ListedColormap(colors[:2])\n",
    "    \n",
    "xx, yy = np.meshgrid(np.linspace(0,50,100),\n",
    "                           np.linspace(0,50,100))\n",
    "Z = my_classifier.predict(np.array([xx.ravel(), yy.ravel()]).T)\n",
    "Z = Z.reshape(xx.shape)\n",
    "plt.contourf(xx, yy, Z, alpha=0.2, cmap=cmap)\n",
    "plt.xlim(xx.min(), xx.max())\n",
    "plt.ylim(yy.min(), yy.max())\n",
    "\n",
    "\n",
    "plt.scatter(data1[:,0], data1[:,1], facecolor='blue')\n",
    "plt.scatter(data2[:,0], data2[:,1], facecolor='red')\n",
    "plt.show()\n",
    "\n"
   ]
  },
  {
   "cell_type": "code",
   "execution_count": 161,
   "metadata": {},
   "outputs": [
    {
     "data": {
      "image/png": "[encoded data removed]",
      "text/plain": [
       "<Figure size 432x288 with 1 Axes>"
      ]
     },
     "metadata": {},
     "output_type": "display_data"
    }
   ],
   "source": [
    "\n",
    "## 2) Now adding a couple of neurons\n",
    "\n",
    "\n",
    "my_classifier = MLPClassifier(hidden_layer_sizes = (20,20,20), activation = 'identity')\n",
    "\n",
    "my_classifier.fit(total_data, total_targets)\n",
    "\n",
    "\n",
    "from matplotlib.colors import ListedColormap\n",
    "# plot the decision surface\n",
    "    \n",
    "colors = ('red', 'blue', 'lightgreen', 'gray', 'cyan')\n",
    "cmap = ListedColormap(colors[:2])\n",
    "    \n",
    "xx, yy = np.meshgrid(np.linspace(0,50,100),\n",
    "                           np.linspace(0,50,100))\n",
    "Z = my_classifier.predict(np.array([xx.ravel(), yy.ravel()]).T)\n",
    "Z = Z.reshape(xx.shape)\n",
    "plt.contourf(xx, yy, Z, alpha=0.2, cmap=cmap)\n",
    "plt.xlim(xx.min(), xx.max())\n",
    "plt.ylim(yy.min(), yy.max())\n",
    "\n",
    "\n",
    "plt.scatter(data1[:,0], data1[:,1], facecolor='blue')\n",
    "plt.scatter(data2[:,0], data2[:,1], facecolor='red')\n",
    "plt.show()\n"
   ]
  },
  {
   "cell_type": "code",
   "execution_count": 164,
   "metadata": {},
   "outputs": [
    {
     "data": {
      "image/png": "[encoded data removed]",
      "text/plain": [
       "<Figure size 432x288 with 1 Axes>"
      ]
     },
     "metadata": {},
     "output_type": "display_data"
    }
   ],
   "source": [
    "\n",
    "## 2) Now adding a couple of neurons and using a non linear activation function \n",
    "\n",
    "\n",
    "my_classifier = MLPClassifier(hidden_layer_sizes = (100,), activation = 'relu')\n",
    "\n",
    "my_classifier.fit(total_data, total_targets)\n",
    "\n",
    "\n",
    "from matplotlib.colors import ListedColormap\n",
    "# plot the decision surface\n",
    "    \n",
    "colors = ('red', 'blue', 'lightgreen', 'gray', 'cyan')\n",
    "cmap = ListedColormap(colors[:2])\n",
    "    \n",
    "xx, yy = np.meshgrid(np.linspace(0,50,100),\n",
    "                           np.linspace(0,50,100))\n",
    "Z = my_classifier.predict(np.array([xx.ravel(), yy.ravel()]).T)\n",
    "Z = Z.reshape(xx.shape)\n",
    "plt.contourf(xx, yy, Z, alpha=0.2, cmap=cmap)\n",
    "plt.xlim(xx.min(), xx.max())\n",
    "plt.ylim(yy.min(), yy.max())\n",
    "\n",
    "\n",
    "plt.scatter(data1[:,0], data1[:,1], facecolor='blue')\n",
    "plt.scatter(data2[:,0], data2[:,1], facecolor='red')\n",
    "plt.show()\n"
   ]
  },
  {
   "cell_type": "code",
   "execution_count": 149,
   "metadata": {},
   "outputs": [
    {
     "data": {
      "image/png": "[encoded data removed]",
      "text/plain": [
       "<Figure size 432x288 with 1 Axes>"
      ]
     },
     "metadata": {},
     "output_type": "display_data"
    }
   ],
   "source": [
    "## 3) changing the learning rate\n",
    "\n",
    "\n",
    "## Try various values for the learning rate between .0001 and 1. What do you observe ?\n",
    "\n",
    "my_classifier = MLPClassifier(hidden_layer_sizes = (20,20,20), activation = 'relu', learning_rate  = 'constant', learning_rate_init =.001, max_iter=20000)\n",
    "\n",
    "my_classifier.fit(total_data, total_targets)\n",
    "\n",
    "\n",
    "from matplotlib.colors import ListedColormap\n",
    "# plot the decision surface\n",
    "    \n",
    "colors = ('red', 'blue', 'lightgreen', 'gray', 'cyan')\n",
    "cmap = ListedColormap(colors[:2])\n",
    "    \n",
    "xx, yy = np.meshgrid(np.linspace(0,50,100),\n",
    "                           np.linspace(0,50,100))\n",
    "Z = my_classifier.predict(np.array([xx.ravel(), yy.ravel()]).T)\n",
    "Z = Z.reshape(xx.shape)\n",
    "plt.contourf(xx, yy, Z, alpha=0.2, cmap=cmap)\n",
    "plt.xlim(xx.min(), xx.max())\n",
    "plt.ylim(yy.min(), yy.max())\n",
    "\n",
    "\n",
    "plt.scatter(data1[:,0], data1[:,1], facecolor='blue')\n",
    "plt.scatter(data2[:,0], data2[:,1], facecolor='red')\n",
    "plt.show()\n",
    "\n",
    "\n"
   ]
  },
  {
   "cell_type": "markdown",
   "metadata": {},
   "source": [
    "__2b.__ Keep the dataset from above. try to change the intialization of the training algorithm. Plot the resulting classifier for a couple of different initializations. What do you see?\n",
    "\n",
    "Do it for a small network first. Then repeat those experiments for larger architectures. I.e. increase the number of neurons and the number of layers. What do you see when you change the initialization?\n"
   ]
  },
  {
   "cell_type": "code",
   "execution_count": null,
   "metadata": {
    "collapsed": true
   },
   "outputs": [],
   "source": [
    "\n",
    "# To \n",
    "class MLPClassifierOverride(MLPClassifier):\n",
    "# Overriding _init_coef method\n",
    "def _init_coef(self, fan_in, fan_out):\n",
    "    if self.activation == 'logistic':\n",
    "        init_bound = np.sqrt(2. / (fan_in + fan_out))\n",
    "    elif self.activation in ('identity', 'tanh', 'relu'):\n",
    "        init_bound = np.sqrt(6. / (fan_in + fan_out))\n",
    "    else:\n",
    "        raise ValueError(\"Unknown activation function %s\" %\n",
    "                         self.activation)\n",
    "    coef_init = ### place your initial values for coef_init here\n",
    "\n",
    "    intercept_init = ### place your initial values for intercept_init here\n",
    "\n",
    "    return coef_init, intercept_init\n",
    "\n",
    "\n",
    "\n",
    "## Try various values for the learning rate between .0001 and 1. What do you observe ?\n",
    "\n",
    "my_classifier = MLPClassifier(hidden_layer_sizes = (20,1000,20), activation = 'relu', learning_rate  = 'constant', learning_rate_init =.001)\n",
    "\n",
    "my_classifier.fit(total_data, total_targets)\n",
    "\n",
    "\n",
    "from matplotlib.colors import ListedColormap\n",
    "# plot the decision surface\n",
    "    \n",
    "colors = ('red', 'blue', 'lightgreen', 'gray', 'cyan')\n",
    "cmap = ListedColormap(colors[:2])\n",
    "    \n",
    "xx, yy = np.meshgrid(np.linspace(0,50,100),\n",
    "                           np.linspace(0,50,100))\n",
    "Z = my_classifier.predict(np.array([xx.ravel(), yy.ravel()]).T)\n",
    "Z = Z.reshape(xx.shape)\n",
    "plt.contourf(xx, yy, Z, alpha=0.2, cmap=cmap)\n",
    "plt.xlim(xx.min(), xx.max())\n",
    "plt.ylim(yy.min(), yy.max())\n",
    "\n",
    "\n",
    "plt.scatter(data1[:,0], data1[:,1], facecolor='blue')\n",
    "plt.scatter(data2[:,0], data2[:,1], facecolor='red')\n",
    "plt.show()\n",
    "\n",
    "\n"
   ]
  },
  {
   "cell_type": "markdown",
   "metadata": {},
   "source": [
    "#### Exercise 3. \n",
    "\n",
    "__3a.__Load the data below. Try to build the best neural network you can for this dataset. Split the data between a training and a test set and evaluate the models you built. What is the best validation error you can get?\n"
   ]
  },
  {
   "cell_type": "code",
   "execution_count": 7,
   "metadata": {},
   "outputs": [
    {
     "data": {
      "text/plain": [
       "<Figure size 432x288 with 0 Axes>"
      ]
     },
     "metadata": {},
     "output_type": "display_data"
    },
    {
     "data": {
      "image/png": "[encoded data removed]",
      "text/plain": [
       "<Figure size 432x288 with 1 Axes>"
      ]
     },
     "metadata": {},
     "output_type": "display_data"
    }
   ],
   "source": [
    "\n",
    "import scipy.io as sio\n",
    "data1 = sio.loadmat('neural_net_ex2_class1.mat')\n",
    "data2 = sio.loadmat('neural_net_ex2_class2.mat')\n",
    "\n",
    "data1 = data1['neural_net_ex2_class1']\n",
    "data2 = data2['neural_net_ex2_class2']\n",
    "\n",
    "\n",
    "from sklearn.neural_network import MLPClassifier\n",
    "\n",
    "# put your code here\n",
    "\n",
    "import matplotlib.pyplot as plt\n",
    "import numpy as np\n",
    "\n",
    "sz1 = np.shape(data1)\n",
    "sz2 = np.shape(data2)\n",
    "targetsClass1 = np.ones((sz1[0],))\n",
    "targetsClass2 = -1 * np.ones((sz2[0],))\n",
    "\n",
    "total_targets = np.hstack((targetsClass1, targetsClass2))\n",
    "total_data = np.vstack((data1, data2))\n",
    "\n",
    "from sklearn.neural_network import MLPClassifier\n",
    "\n",
    "## We first try a simple MLP with Relu activation and without any additional features\n",
    "\n",
    "my_classifier = MLPClassifier(hidden_layer_sizes = (5,5,5), activation = 'relu', learning_rate  = 'invscaling', learning_rate_init =.001, max_iter=20000, alpha = .0000001)\n",
    "\n",
    "my_classifier.fit(total_data, total_targets)\n",
    "\n",
    "\n",
    "from matplotlib.colors import ListedColormap\n",
    "# plot the decision surface\n",
    "    \n",
    "colors = ('red', 'blue', 'lightgreen', 'gray', 'cyan')\n",
    "cmap = ListedColormap(colors[:2])\n",
    "    \n",
    "# xx, yy = np.meshgrid(np.linspace(0,50,100),\n",
    "#                            np.linspace(0,50,100))\n",
    "# Z = my_classifier.predict(np.array([xx.ravel(), yy.ravel()]).T)\n",
    "# Z = Z.reshape(xx.shape)\n",
    "# plt.contourf(xx, yy, Z, alpha=0.2, cmap=cmap)\n",
    "\n",
    "\n",
    "fig, ax = plt.subplots()\n",
    "plt.scatter(data1[:,0], data1[:,1], facecolor='blue')\n",
    "plt.scatter(data2[:,0], data2[:,1], facecolor='red')\n",
    "plt.show()\n",
    "\n",
    "\n",
    "\n",
    "fig.savefig('spiralRaw1.png', format='png', dpi=600)"
   ]
  },
  {
   "cell_type": "code",
   "execution_count": 158,
   "metadata": {},
   "outputs": [
    {
     "name": "stdout",
     "output_type": "stream",
     "text": [
      "193\n"
     ]
    }
   ],
   "source": [
    "print(sz1[0])"
   ]
  },
  {
   "cell_type": "markdown",
   "metadata": {},
   "source": [
    "\n",
    "__3b.__ With the same dataset, add additional features to your model, e.g. $\\sin(x), \\sin(y)$ or other monomials. Can you improve your classifier ?"
   ]
  },
  {
   "cell_type": "code",
   "execution_count": 127,
   "metadata": {},
   "outputs": [
    {
     "data": {
      "text/plain": [
       "MLPClassifier(activation='tanh', alpha=0.0001, batch_size=1000, beta_1=0.9,\n",
       "       beta_2=0.999, early_stopping=False, epsilon=1e-08,\n",
       "       hidden_layer_sizes=(20, 20, 20, 20), learning_rate='constant',\n",
       "       learning_rate_init=0.01, max_iter=2000, momentum=0.9,\n",
       "       n_iter_no_change=10, nesterovs_momentum=True, power_t=0.5,\n",
       "       random_state=None, shuffle=True, solver='adam', tol=0.0001,\n",
       "       validation_fraction=0.1, verbose=False, warm_start=False)"
      ]
     },
     "execution_count": 127,
     "metadata": {},
     "output_type": "execute_result"
    }
   ],
   "source": [
    "# Even when using Neural networks, it might be interesting to add additional features\n",
    "\n",
    "\n",
    "import scipy.io as sio\n",
    "data1 = sio.loadmat('neural_net_ex2_class1.mat')\n",
    "data2 = sio.loadmat('neural_net_ex2_class2.mat')\n",
    "\n",
    "data1 = data1['neural_net_ex2_class1']\n",
    "data2 = data2['neural_net_ex2_class2']\n",
    "\n",
    "\n",
    "from sklearn.neural_network import MLPClassifier\n",
    "\n",
    "# put your code here\n",
    "\n",
    "import matplotlib.pyplot as plt\n",
    "import numpy as np\n",
    "\n",
    "sz1 = np.shape(data1)\n",
    "sz2 = np.shape(data2)\n",
    "targetsClass1 = np.ones((sz1[0],))\n",
    "targetsClass2 = -1 * np.ones((sz2[0],))\n",
    "\n",
    "total_targets = np.hstack((targetsClass1, targetsClass2))\n",
    "total_data = np.vstack((data1, data2))\n",
    "\n",
    "total_data = np.vstack((data1, data2))\n",
    "total_original_data = total_data\n",
    "\n",
    "\n",
    "\n",
    "np.shape(total_data)\n",
    "\n",
    "from sklearn.preprocessing import PolynomialFeatures\n",
    "poly = PolynomialFeatures(2)\n",
    "total_data = poly.fit_transform(total_data)\n",
    "total_data = total_data[:,1:]\n",
    "\n",
    "\n",
    "total_data = np.hstack((total_data,np.sin(total_original_data)) )\n",
    "\n",
    "\n",
    "from sklearn.neural_network import MLPClassifier\n",
    "\n",
    "## We first try a simple MLP with Relu activation and without any additional features\n",
    "\n",
    "my_classifier = MLPClassifier(hidden_layer_sizes = (20,20,20,20), activation = 'tanh', max_iter=2000, batch_size=1000,learning_rate_init=0.01)\n",
    "\n",
    "my_classifier.fit(total_data, total_targets)\n"
   ]
  },
  {
   "cell_type": "code",
   "execution_count": 128,
   "metadata": {},
   "outputs": [
    {
     "data": {
      "image/png": "[encoded data removed]",
      "text/plain": [
       "<Figure size 432x288 with 1 Axes>"
      ]
     },
     "metadata": {},
     "output_type": "display_data"
    }
   ],
   "source": [
    "\n",
    "\n",
    "\n",
    "from matplotlib.colors import ListedColormap\n",
    "# plot the decision surface\n",
    "    \n",
    "colors = ('red', 'blue', 'lightgreen', 'gray', 'cyan')\n",
    "cmap = ListedColormap(colors[:2])\n",
    "    \n",
    "xx, yy = np.meshgrid(np.linspace(0,50,100),\n",
    "                           np.linspace(0,50,100))\n",
    "\n",
    "preprocessed1 = np.array([xx.ravel(), yy.ravel()]).T\n",
    "\n",
    "from sklearn.preprocessing import PolynomialFeatures\n",
    "poly = PolynomialFeatures(2)\n",
    "preprocessed = poly.fit_transform(preprocessed1)\n",
    "preprocessed = preprocessed[:,1:]\n",
    "preprocessed = np.hstack((preprocessed,np.sin(preprocessed1)) )\n",
    "\n",
    "\n",
    "Z = my_classifier.predict(preprocessed)\n",
    "Z = Z.reshape(xx.shape)\n",
    "plt.contourf(xx, yy, Z, alpha=0.2, cmap=cmap)\n",
    "plt.xlim(xx.min(), xx.max())\n",
    "plt.ylim(yy.min(), yy.max())\n",
    "\n",
    "\n",
    "plt.scatter(data1[:,0], data1[:,1], facecolor='blue')\n",
    "plt.scatter(data2[:,0], data2[:,1], facecolor='red')\n",
    "plt.show()"
   ]
  },
  {
   "cell_type": "code",
   "execution_count": null,
   "metadata": {
    "collapsed": true
   },
   "outputs": [],
   "source": []
  }
 ],
 "metadata": {
  "kernelspec": {
   "display_name": "Python 2",
   "language": "python",
   "name": "python2"
  },
  "language_info": {
   "codemirror_mode": {
    "name": "ipython",
    "version": 2
   },
   "file_extension": ".py",
   "mimetype": "text/x-python",
   "name": "python",
   "nbconvert_exporter": "python",
   "pygments_lexer": "ipython2",
   "version": "2.7.13"
  }
 },
 "nbformat": 4,
 "nbformat_minor": 2
}
