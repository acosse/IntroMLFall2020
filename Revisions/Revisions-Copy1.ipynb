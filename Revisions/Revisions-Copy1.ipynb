{
 "cells": [
  {
   "cell_type": "markdown",
   "metadata": {},
   "source": [
    "## MidTerm Revisions"
   ]
  },
  {
   "cell_type": "markdown",
   "metadata": {},
   "source": [
    "In this session, we will review the supervised learning part of the course."
   ]
  },
  {
   "cell_type": "markdown",
   "metadata": {},
   "source": [
    "### Some numpy"
   ]
  },
  {
   "cell_type": "markdown",
   "metadata": {},
   "source": [
    "__Before reviewing the machine learning libraries and methods, we will start with some training exercises in numpy. Code the solution to each of the following questions__"
   ]
  },
  {
   "cell_type": "markdown",
   "metadata": {},
   "source": [
    " - Create a 2D array with random numbers\n",
    " - reshape the array into a vector\n",
    " - Consider the matrices $A = 2*11^T$ and $B= 3*11^T$ where $1$ is 5 by 1 vector of all 1's.      Compute the product $(A+B)*(-A/2)$\n",
    " - Build two random matrices A and B (i.e matrices with random elements) of size 5x3 (A) and 3x2 (B) respectively then compute the product A*B \n",
    " - Consider the two vectors $a = [1,2,3,4,5,6]$ and $b = [7,8,9,10,11,12]$. Stack those two vectors vertically and  horizontally. Then do the same with the two matrices $A$ and $B$ where $A$ is a $10\\times 10$ matrix of all $1$ and $B$ is an identity matrix which takes as single argument, a number of rows and number of columns and iteratively builds a matrix of the form\n",
    "\n",
    "$$A = \\left[\\begin{array}{ccc}\n",
    "1 & 4 & 7 \\\\\n",
    "2 & 5 & 8\\\\\n",
    "3 & 6 & 9\\\\\n",
    "\\end{array}\\right] $$\n",
    "\n",
    "  from the set of integers (i.e splitting the vector $[1,2,3,4,\\ldots,K]$ into a matrix of size $m\\times n$)\n",
    " \n",
    "  -  Consider the following vectors. Remove from $a$ all the elements that appear in $b$  \n",
    "      - $a = [1,21,38,4,10,12,5,9,77, 19,20,21,9,32, 50]$\n",
    "      - $b = [51,63,1,10,8,9,32, 53, 90, 76, 43,77, 25]$\n",
    "      \n",
    "  -  Same question as before. But now return the indices at which the two arrays match"
   ]
  },
  {
   "cell_type": "code",
   "execution_count": 15,
   "metadata": {},
   "outputs": [
    {
     "name": "stdout",
     "output_type": "stream",
     "text": [
      "[[-25. -25. -25. -25. -25.]\n",
      " [-25. -25. -25. -25. -25.]\n",
      " [-25. -25. -25. -25. -25.]\n",
      " [-25. -25. -25. -25. -25.]\n",
      " [-25. -25. -25. -25. -25.]]\n",
      "[[ 1.16969521 -1.34145513]\n",
      " [ 0.32061262 -0.24947963]\n",
      " [ 1.30989327 -1.8897747 ]\n",
      " [-1.82826375  2.03013823]\n",
      " [ 0.65279185 -0.79572341]]\n",
      "[[ 1  2  3  4  5  6]\n",
      " [ 7  8  9 10 11 12]]\n",
      "[[ 1  7]\n",
      " [ 2  8]\n",
      " [ 3  9]\n",
      " [ 4 10]\n",
      " [ 5 11]\n",
      " [ 6 12]]\n"
     ]
    }
   ],
   "source": [
    "import numpy as np\n",
    "\n",
    "# put your code here. You can also add a cell after each item above if you prefer\n",
    "\n",
    "# Exercise 1\n",
    "Mat  = np.random.normal(size=(10,10))\n",
    "# Exercise 2\n",
    "vec = Mat.reshape((100, 1))\n",
    "# Exercise 3\n",
    "A1 = np.outer(np.ones((5,1)), np.ones((1,5)))\n",
    "A = 2*A1\n",
    "B = np.outer(np.ones((5,1)), np.ones((1,5)))\n",
    "B = 3*B\n",
    "C = A+B\n",
    "D = np.dot(C, -(A/2))\n",
    "print(D)\n",
    "# Exercise 4\n",
    "A2 = np.random.normal(size=(5,3))\n",
    "B2 = np.random.normal(size=(3,2))\n",
    "C2 = np.dot(A2,B2)\n",
    "print(C2)\n",
    "#\n",
    "a3 = np.array([1,2,3,4,5,6])\n",
    "b3 = np.array([7,8,9,10,11,12])\n",
    "c3 = np.stack((a3, b3))\n",
    "print(c3)\n",
    "a3 = a3.reshape(-1,1)\n",
    "b3 = b3.reshape(-1,1)\n",
    "c3 = np.column_stack((a3,b3))\n",
    "print(c3)\n",
    "\n"
   ]
  },
  {
   "cell_type": "code",
   "execution_count": null,
   "metadata": {
    "collapsed": true
   },
   "outputs": [],
   "source": [
    "Solutions\n",
    "\n",
    "A = np.ones(3)*1\n",
    "B = np.ones(3)*2\n",
    "C = np.ones(3)*3\n",
    "np.add(A,B,out=B)\n",
    "np.divide(A,2,out=A)\n",
    "np.negative(A,out=A)\n",
    "np.multiply(A,B,out=A)\n",
    "\n",
    "\n",
    "\n",
    "\n",
    "Last \n",
    "\n",
    "\n",
    "# Author: Nicolas Rougier\n",
    "\n",
    "Z = np.random.randint(0,10,(10,10))\n",
    "shape = (5,5)\n",
    "fill  = 0\n",
    "position = (1,1)\n",
    "\n",
    "R = np.ones(shape, dtype=Z.dtype)*fill\n",
    "P  = np.array(list(position)).astype(int)\n",
    "Rs = np.array(list(R.shape)).astype(int)\n",
    "Zs = np.array(list(Z.shape)).astype(int)\n",
    "\n",
    "R_start = np.zeros((len(shape),)).astype(int)\n",
    "R_stop  = np.array(list(shape)).astype(int)\n",
    "Z_start = (P-Rs//2)\n",
    "Z_stop  = (P+Rs//2)+Rs%2\n",
    "\n",
    "R_start = (R_start - np.minimum(Z_start,0)).tolist()\n",
    "Z_start = (np.maximum(Z_start,0)).tolist()\n",
    "R_stop = np.maximum(R_start, (R_stop - np.maximum(Z_stop-Zs,0))).tolist()\n",
    "Z_stop = (np.minimum(Z_stop,Zs)).tolist()\n",
    "\n",
    "r = [slice(start,stop) for start,stop in zip(R_start,R_stop)]\n",
    "z = [slice(start,stop) for start,stop in zip(Z_start,Z_stop)]\n",
    "R[r] = Z[z]\n",
    "print(Z)\n",
    "print(R)\n",
    "\n",
    "\n"
   ]
  },
  {
   "cell_type": "markdown",
   "metadata": {},
   "source": [
    " - Use the lines below to load the iris 2d dataset and remove the lines that contain Nan values"
   ]
  },
  {
   "cell_type": "code",
   "execution_count": 8,
   "metadata": {
    "collapsed": true
   },
   "outputs": [],
   "source": [
    "url = 'https://archive.ics.uci.edu/ml/machine-learning-databases/iris/iris.data'\n",
    "iris_2d = np.genfromtxt(url, delimiter=',', dtype='float', usecols=[0,1,2,3])\n",
    "\n",
    "\n",
    "# put your code here\n"
   ]
  },
  {
   "cell_type": "markdown",
   "metadata": {},
   "source": [
    " - Sort the iris dataset based on the sepal length column"
   ]
  },
  {
   "cell_type": "code",
   "execution_count": null,
   "metadata": {
    "collapsed": true
   },
   "outputs": [],
   "source": [
    "url = 'https://archive.ics.uci.edu/ml/machine-learning-databases/iris/iris.data'\n",
    "iris = np.genfromtxt(url, delimiter=',', dtype='object')\n",
    "names = ('sepallength', 'sepalwidth', 'petallength', 'petalwidth', 'species')\n",
    "\n",
    "\n",
    "# put your code here\n",
    "\n"
   ]
  },
  {
   "cell_type": "markdown",
   "metadata": {},
   "source": [
    " - Replace the \"petal length\" column in the data below with the following categorical (i.e text) data:\n",
    "     - length < 3 -> 'small'\n",
    "     - 3 < length < 5 -> 'medium'\n",
    "     - 5 < length     -> 'large'\n",
    "     "
   ]
  },
  {
   "cell_type": "code",
   "execution_count": null,
   "metadata": {
    "collapsed": true
   },
   "outputs": [],
   "source": [
    "# Input\n",
    "url = 'https://archive.ics.uci.edu/ml/machine-learning-databases/iris/iris.data'\n",
    "iris = np.genfromtxt(url, delimiter=',', dtype='object')\n",
    "names = ('sepallength', 'sepalwidth', 'petallength', 'petalwidth', 'species')\n",
    "\n",
    "\n",
    "# put your code here\n",
    "\n",
    "\n"
   ]
  },
  {
   "cell_type": "markdown",
   "metadata": {},
   "source": [
    " -  Create a new column for the dataset below encoding some estimate of the volume. The value of that new column should be\n",
    " \n",
    " ($\\pi$ x petallength x sepallength$^2$)/3  "
   ]
  },
  {
   "cell_type": "code",
   "execution_count": null,
   "metadata": {
    "collapsed": true
   },
   "outputs": [],
   "source": [
    "# Input\n",
    "url = 'https://archive.ics.uci.edu/ml/machine-learning-databases/iris/iris.data'\n",
    "iris_2d = np.genfromtxt(url, delimiter=',', dtype='object')\n",
    "names = ('sepallength', 'sepalwidth', 'petallength', 'petalwidth', 'species')\n",
    "\n",
    "\n",
    "# put your code here\n",
    "\n",
    "\n"
   ]
  },
  {
   "cell_type": "markdown",
   "metadata": {},
   "source": [
    " - Randomly sample the species in the iris dataset so that 'setose' is twice the number of 'versicolor' and 'virginica'"
   ]
  },
  {
   "cell_type": "code",
   "execution_count": null,
   "metadata": {
    "collapsed": true
   },
   "outputs": [],
   "source": [
    "# Import iris keeping the text column intact\n",
    "url = 'https://archive.ics.uci.edu/ml/machine-learning-databases/iris/iris.data'\n",
    "iris = np.genfromtxt(url, delimiter=',', dtype='object')\n",
    "\n",
    "\n",
    "# put your code here\n",
    "\n",
    "\n"
   ]
  },
  {
   "cell_type": "markdown",
   "metadata": {},
   "source": [
    " - Consider the data below. Complete it to span all dates between 2018-02-01 and 2018-02-23"
   ]
  },
  {
   "cell_type": "code",
   "execution_count": null,
   "metadata": {
    "collapsed": true
   },
   "outputs": [],
   "source": [
    "# Input\n",
    "dates = np.arange(np.datetime64('2018-02-01'), np.datetime64('2018-02-25'), 2)\n",
    "print(dates)\n",
    "#> ['2018-02-01' '2018-02-03' '2018-02-05' '2018-02-07' '2018-02-09'\n",
    "#>  '2018-02-11' '2018-02-13' '2018-02-15' '2018-02-17' '2018-02-19'\n",
    "#>  '2018-02-21' '2018-02-23']\n",
    "\n",
    "\n",
    "# put your code here\n"
   ]
  },
  {
   "cell_type": "markdown",
   "metadata": {},
   "source": [
    "### Regression\n",
    "\n",
    "In this first exercise, we will review what we learned on regression, on a housing dataset from Zillow"
   ]
  },
  {
   "cell_type": "code",
   "execution_count": 48,
   "metadata": {},
   "outputs": [
    {
     "data": {
      "image/png": "[encoded data removed]",
      "text/plain": [
       "<Figure size 432x288 with 1 Axes>"
      ]
     },
     "metadata": {},
     "output_type": "display_data"
    }
   ],
   "source": [
    "import numpy as np\n",
    "import pandas as pd\n",
    "\n",
    "import matplotlib.pyplot as plt\n",
    "\n",
    "\n",
    "data = pd.read_csv('AirPassengers.csv')\n",
    "data['Month'] = pd.to_datetime(data['Month'])\n",
    "indexedData = data.set_index('Month')\n",
    "\n",
    "plt.plot(indexedData, color='blue')\n",
    "plt.xlabel('Date')\n",
    "plt.ylabel('Number of passengers')\n",
    "plt.show()"
   ]
  },
  {
   "cell_type": "code",
   "execution_count": 98,
   "metadata": {},
   "outputs": [
    {
     "name": "stdout",
     "output_type": "stream",
     "text": [
      "144\n"
     ]
    }
   ],
   "source": [
    "import matplotlib.pyplot as plt\n",
    "\n",
    "\n",
    "numPass = data['#Passengers']\n",
    "\n",
    "size1 = numPass.shape\n",
    "\n",
    "\n",
    "\n",
    "numPassArray = np.zeros((size1[0],1))\n",
    "\n",
    "for i in range(0,size1[0]):\n",
    "    \n",
    "    numPassArray[i] = numPass[i]\n",
    "\n",
    "\n",
    "timeData = np.arange(size1[0])\n",
    "\n",
    "\n",
    "t = np.linspace(0, size1[0], num=100)\n",
    "\n",
    "t2 = t.reshape(-1,1)\n",
    "timeData2 = timeData.reshape(-1,1)\n",
    "numPassArray2 = numPassArray.reshape(-1,1)\n",
    "\n",
    "from sklearn import datasets, linear_model\n",
    "from sklearn.linear_model import LinearRegression\n",
    "regr = linear_model.LinearRegression()\n",
    "regr = regr.fit(timeData2, numPassArray2)\n",
    "\n",
    "\n",
    "\n",
    "print(numPassArray2.size)\n",
    "\n",
    "\n",
    "#reg.fit(timeData2, numPassArray2, sample_weight=None)\n",
    "#reg.predict(t2)\n",
    "\n",
    "\n",
    "#plt.plot(t, )\n",
    "#plt.ylabel('some numbers')\n",
    "#plt.show()\n",
    "\n"
   ]
  },
  {
   "cell_type": "markdown",
   "metadata": {},
   "source": [
    "__1.1.Using the linear regression library from scikit-learn. Fit a linear model to the data__"
   ]
  },
  {
   "cell_type": "code",
   "execution_count": null,
   "metadata": {
    "collapsed": true
   },
   "outputs": [],
   "source": [
    "from sklearn import linear_model\n",
    "reg = linear_model.LinearRegression()\n",
    "\n",
    "\n",
    "# put your code here\n",
    "\n"
   ]
  },
  {
   "cell_type": "markdown",
   "metadata": {},
   "source": [
    "__1.2. Polynomial model__ \n",
    "We would like to catch (at least in part) the oscillations. How many more monomials do you need to add to the model (i.e what minimum degree do you need) to capture those oscillations?"
   ]
  },
  {
   "cell_type": "code",
   "execution_count": 115,
   "metadata": {},
   "outputs": [
    {
     "data": {
      "image/png": "[encoded data removed]",
      "text/plain": [
       "<Figure size 432x288 with 1 Axes>"
      ]
     },
     "metadata": {},
     "output_type": "display_data"
    },
    {
     "name": "stdout",
     "output_type": "stream",
     "text": [
      "622.0\n"
     ]
    }
   ],
   "source": [
    "\n",
    "\n",
    "# put your code here\n",
    "\n",
    "import numpy as np\n",
    "import matplotlib.pyplot as plt\n",
    "from sklearn.pipeline import Pipeline\n",
    "from sklearn.preprocessing import PolynomialFeatures\n",
    "from sklearn.linear_model import LinearRegression\n",
    "\n",
    "\n",
    "from sklearn import datasets, linear_model\n",
    "from sklearn.linear_model import LinearRegression\n",
    "from sklearn.linear_model import Ridge\n",
    "\n",
    "regr = linear_model.Ridge()\n",
    "regr = regr.fit(timeData2, numPassArray2)\n",
    "\n",
    "\n",
    "polynomial_features = PolynomialFeatures(degree=20,\n",
    "                                             include_bias=False)\n",
    "\n",
    "\n",
    "t = np.linspace(0, size1[0], num=100)\n",
    "\n",
    "t2 = t.reshape(-1,1)\n",
    "timeData2 = timeData.reshape(-1,1)\n",
    "numPassArray2 = numPassArray.reshape(-1,1)\n",
    "\n",
    "\n",
    "\n",
    "\n",
    "linear_regression = LinearRegression()\n",
    "pipeline = Pipeline([(\"polynomial_features\", polynomial_features),\n",
    "                         (\"linear_regression\", linear_regression)])\n",
    "pipeline.fit(timeData2, numPassArray2)\n",
    "\n",
    "\n",
    "import numpy as np\n",
    "import matplotlib.pyplot as plt\n",
    "ax = plt.subplot(1, 1, 1)\n",
    "plt.setp(ax, xticks=(), yticks=())\n",
    "\n",
    "plt.plot(t2, pipeline.predict(t2))\n",
    "\n",
    "plt.plot(timeData2,numPassArray2 , color='blue')\n",
    "plt.xlabel('Date')\n",
    "plt.ylabel('Number of passengers')\n",
    "\n",
    "\n",
    "# put your code here\n",
    "\n",
    "import numpy as np\n",
    "import matplotlib.pyplot as plt\n",
    "from sklearn.pipeline import Pipeline\n",
    "from sklearn.preprocessing import PolynomialFeatures\n",
    "from sklearn.linear_model import LinearRegression\n",
    "\n",
    "\n",
    "from sklearn import datasets, linear_model\n",
    "from sklearn.linear_model import LinearRegression\n",
    "from sklearn.linear_model import Ridge\n",
    "\n",
    "regr = linear_model.LinearRegression()\n",
    "regr = regr.fit(timeData2, numPassArray2)\n",
    "\n",
    "\n",
    "polynomial_features = PolynomialFeatures(degree=20,\n",
    "                                             include_bias=False)\n",
    "\n",
    "\n",
    "\n",
    "linear_regression = LinearRegression()\n",
    "pipeline = Pipeline([(\"polynomial_features\", polynomial_features),\n",
    "                         (\"linear_regression\", linear_regression)])\n",
    "pipeline.fit(timeData2, numPassArray2)\n",
    "\n",
    "\n",
    "import numpy as np\n",
    "import matplotlib.pyplot as plt\n",
    "ax = plt.subplot(1, 1, 1)\n",
    "#plt.setp(ax, xticks=(), yticks=())\n",
    "\n",
    "plt.plot(t2, pipeline.predict(t2))\n",
    "\n",
    "plt.plot(timeData2,numPassArray2 , color='blue')\n",
    "\n",
    "\n",
    "\n",
    "plt.show()\n",
    "\n",
    "\n",
    "print(np.amax(numPassArray2))\n",
    "\n",
    "\n",
    "\n",
    "\n",
    "\n",
    "\n"
   ]
  },
  {
   "cell_type": "markdown",
   "metadata": {},
   "source": [
    "### Classification"
   ]
  },
  {
   "cell_type": "markdown",
   "metadata": {},
   "source": [
    "This part uses data from Andrew Ng's \"Machine Learning\" class on Coursera"
   ]
  },
  {
   "cell_type": "markdown",
   "metadata": {},
   "source": [
    "We start with a simple linear classification model. Go and download the data from https://github.com/jdwittenauer/ipython-notebooks/blob/master/data/ex6data1.mat. Then use the snippet below to load it. \n"
   ]
  },
  {
   "cell_type": "code",
   "execution_count": 119,
   "metadata": {},
   "outputs": [
    {
     "data": {
      "text/plain": [
       "<matplotlib.legend.Legend at 0x1a1a39ff50>"
      ]
     },
     "execution_count": 119,
     "metadata": {},
     "output_type": "execute_result"
    },
    {
     "data": {
      "image/png": "[encoded data removed]",
      "text/plain": [
       "<Figure size 864x576 with 1 Axes>"
      ]
     },
     "metadata": {},
     "output_type": "display_data"
    }
   ],
   "source": [
    "import numpy as np\n",
    "import pandas as pd\n",
    "import matplotlib.pyplot as plt\n",
    "import seaborn as sb\n",
    "from scipy.io import loadmat\n",
    "%matplotlib inline\n",
    "\n",
    "raw_data = loadmat('ex6data1.mat')\n",
    "raw_data\n",
    "\n",
    "data = pd.DataFrame(raw_data['X'], columns=['X1', 'X2'])\n",
    "data['y'] = raw_data['y']\n",
    "\n",
    "positive = data[data['y'].isin([1])]\n",
    "negative = data[data['y'].isin([0])]\n",
    "\n",
    "fig, ax = plt.subplots(figsize=(12,8))\n",
    "ax.scatter(positive['X1'], positive['X2'], s=50, marker='x', label='Positive')\n",
    "ax.scatter(negative['X1'], negative['X2'], s=50, marker='o', label='Negative')\n",
    "ax.legend()"
   ]
  },
  {
   "cell_type": "code",
   "execution_count": 177,
   "metadata": {},
   "outputs": [
    {
     "name": "stdout",
     "output_type": "stream",
     "text": [
      "20    1.58410\n",
      "21    2.01030\n",
      "22    1.95270\n",
      "23    2.27530\n",
      "24    2.30990\n",
      "25    2.82830\n",
      "26    3.04730\n",
      "27    2.48270\n",
      "28    2.50570\n",
      "29    1.87210\n",
      "30    2.01030\n",
      "31    1.22690\n",
      "32    1.89510\n",
      "33    1.56100\n",
      "34    1.54950\n",
      "35    1.68780\n",
      "36    1.49190\n",
      "37    0.96200\n",
      "38    1.16930\n",
      "39    0.81220\n",
      "40    0.97350\n",
      "41    1.25000\n",
      "42    1.31910\n",
      "43    2.22920\n",
      "44    2.44820\n",
      "45    2.79380\n",
      "46    2.09100\n",
      "47    2.54030\n",
      "48    0.90440\n",
      "49    0.76615\n",
      "Name: X1, dtype: float64\n",
      "1.5841\n"
     ]
    }
   ],
   "source": [
    "tmp1 = positive['X1']\n",
    "tmp2 = negative['X1']\n",
    "\n",
    "\n",
    "print(tmp2)\n",
    "\n",
    "print(tmp2[20])"
   ]
  },
  {
   "cell_type": "markdown",
   "metadata": {},
   "source": [
    "__2.1__ Learn a linear classifier for the dataset above using the LinearSVC library from scikit-learn and plot the boundary"
   ]
  },
  {
   "cell_type": "code",
   "execution_count": 234,
   "metadata": {},
   "outputs": [
    {
     "data": {
      "image/png": "[encoded data removed]",
      "text/plain": [
       "<Figure size 432x288 with 1 Axes>"
      ]
     },
     "metadata": {},
     "output_type": "display_data"
    }
   ],
   "source": [
    "# put your code here\n",
    "\n",
    "import numpy as np\n",
    "import matplotlib.pyplot as plt\n",
    "from sklearn import svm, datasets\n",
    "\n",
    "tmp1 = positive['X1']\n",
    "tmp2 = negative['X1']\n",
    "\n",
    "sz1 = tmp1.size\n",
    "sz2 = tmp2.size\n",
    "\n",
    "\n",
    "valuePositive1 = np.zeros((sz1-1,1))\n",
    "valuePositive2 = np.zeros((sz1-1,1))\n",
    "labelPositive = np.zeros((sz1-1,1))\n",
    "\n",
    "\n",
    "for i in range(0, sz1-1):\n",
    "    \n",
    "    value1 = positive['X1']\n",
    "    value2 = positive['X2']\n",
    "    valuePositive1[i] = value1[i]\n",
    "    valuePositive2[i] = value2[i]\n",
    "    labelPositive[i] = 1\n",
    "    \n",
    "    \n",
    "valuePositive = np.concatenate((valuePositive1, valuePositive2), axis=1)\n",
    "#print(valuePositive)   \n",
    "\n",
    "\n",
    "valueNegative1 = np.zeros((sz2-1,1))\n",
    "valueNegative2 = np.zeros((sz2-1,1))\n",
    "labelNegative = np.zeros((sz2-1,1))\n",
    "\n",
    "    \n",
    "for i in range(0, sz2-1):\n",
    "    \n",
    "    value1 = negative['X1']\n",
    "    value2 = negative['X2']\n",
    "    valueNegative1[i] = value1[i+20]\n",
    "    valueNegative2[i] = value2[i+20]\n",
    "    labelNegative[i] = -1.0\n",
    "    \n",
    "valueNegative = np.concatenate((valueNegative1, valueNegative2), axis=1)\n",
    "#print(valueNegative)  \n",
    "\n",
    "points = np.concatenate((valuePositive, valueNegative), axis=0)\n",
    "labels = np.concatenate((labelPositive, labelNegative), axis=0)\n",
    "\n",
    "\n",
    "labels = labels.reshape((1,labels.size))\n",
    "labels = labels[0]\n",
    "\n",
    "clf = svm.SVC(kernel='linear')\n",
    "clf.fit(points, labels)\n",
    "\n",
    "\n",
    "\n",
    "\n",
    "x1 = points[:,0]\n",
    "x2 = points[:,1]\n",
    "\n",
    "\n",
    "x1_min, x1_max = x1.min() - 1, x1.max() + 1\n",
    "x2_min, x2_max = x2.min() - 1, x2.max() + 1\n",
    "\n",
    "\n",
    "h=.02\n",
    "xx1, xx2 = np.meshgrid(np.arange(x1_min, x1_max, h),\n",
    "                         np.arange(x2_min, x2_max, h))\n",
    "\n",
    "\n",
    "Z = clf.predict(np.c_[xx1.ravel(), xx2.ravel()])\n",
    "\n",
    "\n",
    "fig, ax = plt.subplots()\n",
    "\n",
    "\n",
    "Zmat = Z.reshape(xx1.shape)\n",
    "ax.contourf(xx1, xx2, Zmat,cmap=plt.cm.coolwarm, alpha=0.8)\n",
    "#ax.set_xlim(xx1.min(), xx1.max())\n",
    "#ax.set_ylim(xx2.min(), xx2.max())\n",
    "\n",
    "plt.show()\n",
    "\n",
    "\n",
    "\n",
    "\n",
    "\n",
    "\n",
    "\n",
    "\n",
    "\n",
    "\n"
   ]
  },
  {
   "cell_type": "code",
   "execution_count": null,
   "metadata": {},
   "outputs": [],
   "source": []
  },
  {
   "cell_type": "code",
   "execution_count": null,
   "metadata": {
    "collapsed": true
   },
   "outputs": [],
   "source": [
    "\n",
    "clf.fit(points, labels)\n",
    "\n",
    "\n",
    "\n",
    "\n"
   ]
  },
  {
   "cell_type": "markdown",
   "metadata": {},
   "source": [
    "We are now interested in a non linearly separable dataset. Load the data from https://github.com/jdwittenauer/ipython-notebooks/blob/master/data/ex6data2.mat"
   ]
  },
  {
   "cell_type": "code",
   "execution_count": 6,
   "metadata": {
    "scrolled": false
   },
   "outputs": [
    {
     "data": {
      "text/plain": [
       "<matplotlib.legend.Legend at 0x1a1f525b50>"
      ]
     },
     "execution_count": 6,
     "metadata": {},
     "output_type": "execute_result"
    },
    {
     "data": {
      "image/png": "[encoded data removed]",
      "text/plain": [
       "<Figure size 864x576 with 1 Axes>"
      ]
     },
     "metadata": {},
     "output_type": "display_data"
    }
   ],
   "source": [
    "import numpy as np\n",
    "import pandas as pd\n",
    "import matplotlib.pyplot as plt\n",
    "import seaborn as sb\n",
    "from scipy.io import loadmat\n",
    "\n",
    "raw_data = loadmat('ex6data2.mat')\n",
    "\n",
    "data = pd.DataFrame(raw_data['X'], columns=['X1', 'X2'])\n",
    "data['y'] = raw_data['y']\n",
    "\n",
    "positive = data[data['y'].isin([1])]\n",
    "negative = data[data['y'].isin([0])]\n",
    "\n",
    "fig, ax = plt.subplots(figsize=(12,8))\n",
    "ax.scatter(positive['X1'], positive['X2'], s=30, marker='x', label='Positive')\n",
    "ax.scatter(negative['X1'], negative['X2'], s=30, marker='o', label='Negative')\n",
    "ax.legend()"
   ]
  },
  {
   "cell_type": "markdown",
   "metadata": {},
   "source": [
    "__2.2.__ For the dataset shown above, using the library svm from scikit-learn with a RBF kernel, learn a maximum margin classifier for the data and plot the boundary"
   ]
  },
  {
   "cell_type": "code",
   "execution_count": null,
   "metadata": {
    "collapsed": true
   },
   "outputs": [],
   "source": [
    "# put your code here\n",
    "\n",
    "\n"
   ]
  },
  {
   "cell_type": "markdown",
   "metadata": {},
   "source": [
    "__2.3.__ Same question with the polynomial kernel."
   ]
  },
  {
   "cell_type": "code",
   "execution_count": null,
   "metadata": {
    "collapsed": true
   },
   "outputs": [],
   "source": [
    "# Put your code here\n",
    "\n",
    "\n"
   ]
  },
  {
   "cell_type": "markdown",
   "metadata": {},
   "source": [
    "### Neural networks"
   ]
  },
  {
   "cell_type": "markdown",
   "metadata": {},
   "source": [
    "__3.1.__ As we saw through previous exercises, neural networks can be viewed as splitting the space into linearly separated regions. Relying on the "
   ]
  },
  {
   "cell_type": "code",
   "execution_count": null,
   "metadata": {
    "collapsed": true
   },
   "outputs": [],
   "source": []
  }
 ],
 "metadata": {
  "kernelspec": {
   "display_name": "Python 2",
   "language": "python",
   "name": "python2"
  },
  "language_info": {
   "codemirror_mode": {
    "name": "ipython",
    "version": 2
   },
   "file_extension": ".py",
   "mimetype": "text/x-python",
   "name": "python",
   "nbconvert_exporter": "python",
   "pygments_lexer": "ipython2",
   "version": "2.7.13"
  }
 },
 "nbformat": 4,
 "nbformat_minor": 2
}
