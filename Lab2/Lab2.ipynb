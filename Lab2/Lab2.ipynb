{
 "cells": [
  {
   "cell_type": "markdown",
   "metadata": {},
   "source": [
    "## Programming Session Week 3\n",
    "\n",
    "This file provides additional exercises on linear classification and regression. We start by reviewing concepts in probability and statistics. Then we study the logistic regression classifier.   \n"
   ]
  },
  {
   "cell_type": "markdown",
   "metadata": {},
   "source": [
    "### Exercise I. Probability and statistics. "
   ]
  },
  {
   "cell_type": "markdown",
   "metadata": {},
   "source": [
    "### Exercise I.1. Bernoulli and Normal distribution. \n",
    "\n",
    "__Exercise I.1.a__ Start by plotting the One dimensional Gaussian distribution"
   ]
  },
  {
   "cell_type": "code",
   "execution_count": null,
   "metadata": {
    "collapsed": true
   },
   "outputs": [],
   "source": [
    "import numpy as np\n",
    "import matplotlib.pyplot as plt\n",
    "import random\n",
    "\n",
    "\n"
   ]
  },
  {
   "cell_type": "markdown",
   "metadata": {},
   "source": [
    "__Exercise I.1.b__ Generate values at random from this distribution. Given a set of samples, what is the Maximum Likelihood estimator for $\\mu$ ? for $\\sigma^2$ ?"
   ]
  },
  {
   "cell_type": "code",
   "execution_count": null,
   "metadata": {
    "collapsed": true
   },
   "outputs": [],
   "source": []
  },
  {
   "cell_type": "markdown",
   "metadata": {},
   "source": [
    "__Exercise I.1.c__ Plot the Laplace distribution and generate random values from this distribution. plot the histogram that you obtain from the Laplace distribution. Then plot the corresponding histogram for the Laplace. distribution. \n"
   ]
  },
  {
   "cell_type": "code",
   "execution_count": null,
   "metadata": {
    "collapsed": true
   },
   "outputs": [],
   "source": []
  },
  {
   "cell_type": "markdown",
   "metadata": {},
   "source": [
    "__Exercise I.1.d__ Generate values $x_i$ at random from this distribution. Given a set of samples $\\left\\{x_i\\right\\}_{i=1}^N$ from the Gaussian distribution, what is the Maximum Likelihood estimator for $\\mu$ ? for $\\sigma^2$ ? \n",
    "\n",
    "\n",
    "__Exercise I.1.e__ (*) we say that an estimator is unbiased when $\\mathbb{E}\\hat{\\theta} = \\theta$. Would you say that your estimator for the mean is biased or unbiased ? How about the "
   ]
  },
  {
   "cell_type": "markdown",
   "metadata": {},
   "source": [
    "__Exercise I.1.f__ Plot the two dimensional Gaussian distribution for varying means and covariance matrices. Use 'plot_surface' first. Then only keep the contours (i.e. use ax.contour). Plot on top of those contours, random $2D$ samples from the distribution."
   ]
  },
  {
   "cell_type": "code",
   "execution_count": null,
   "metadata": {
    "collapsed": true
   },
   "outputs": [],
   "source": [
    "import numpy as np\n",
    "import matplotlib.pyplot as plt\n",
    "\n"
   ]
  },
  {
   "cell_type": "markdown",
   "metadata": {},
   "source": [
    "### Exercise I.2. Logistic Regression, Linear Discriminant Analysis. "
   ]
  },
  {
   "cell_type": "markdown",
   "metadata": {},
   "source": [
    "A popular discriminative (resp. generative) model is give by considering as data distribution either the Bernoulli (logistic regression) or Gaussian (Gaussian/Linear Discriminant Analysis) distribution. In this exercise, we will discuss each of those classifiers. For both of them, we will rely on the dataset below"
   ]
  },
  {
   "cell_type": "code",
   "execution_count": 30,
   "metadata": {},
   "outputs": [
    {
     "data": {
      "image/png": "[encoded data removed]",
      "text/plain": [
       "<Figure size 432x288 with 1 Axes>"
      ]
     },
     "metadata": {},
     "output_type": "display_data"
    }
   ],
   "source": [
    "from sklearn.datasets import make_blobs\n",
    "import matplotlib.pyplot as plt\n",
    "\n",
    "X, y = make_blobs(n_samples=100,centers = [[0,0], [1,1]], cluster_std=[0.3, 0.3])\n",
    "\n",
    "X1 = X[y==1,:]\n",
    "y1 = y[y==1]\n",
    "X2 = X[y==0,:]\n",
    "y2 = y[y==0]\n",
    "\n",
    "plt.scatter(X1[:,0], X1[:,1], c='r', alpha = 0.7, edgecolors='black')\n",
    "plt.scatter(X2[:,0], X2[:,1], c='b', alpha = 0.7, edgecolors='black')\n",
    "plt.show()"
   ]
  },
  {
   "cell_type": "markdown",
   "metadata": {},
   "source": [
    "### Exercise I.2.1 Logistic regression\n",
    "\n",
    "In logistic regression, we want to learn a model of the form \n",
    "\n",
    "$$y(x) = \\sigma(\\mathbf{\\beta}^T\\mathbf{x} + \\beta_0)$$\n",
    "\n",
    "where $\\sigma(x)$ is the sigmoid function.\n",
    "\n",
    "#### I.2.1a.  Start by plotting this function below."
   ]
  },
  {
   "cell_type": "code",
   "execution_count": null,
   "metadata": {
    "collapsed": true
   },
   "outputs": [],
   "source": [
    "import matlplotlib.pyplot as plt\n",
    "\n",
    "\n"
   ]
  },
  {
   "cell_type": "markdown",
   "metadata": {},
   "source": [
    "#### I.2.1b. In logistic regression, the model above is used to encode the probability of getting the label $1$ or the label $0$. We thus let \n",
    "\n",
    "\\begin{align}\n",
    "p(t= 1|\\mathbf{x}; \\mathbf{\\beta}) &= h_{\\mathbf{\\beta}}(\\mathbf{x})\\\\\n",
    "p(t= 0|\\mathbf{x}; \\mathbf{\\beta}) &= 1 - h_{\\mathbf{\\beta}}(\\mathbf{x})\n",
    "\\end{align}\n",
    "\n",
    "Compactly, we can write those lines as \n",
    "\n",
    "\\begin{align}\n",
    "p(t= y|\\mathbf{x}; \\mathbf{\\beta}) = (h_{\\mathbf{\\beta}}(\\mathbf{x}))^y (1- h_{\\mathbf{\\beta}}(\\mathbf{x}))^(1-y)\n",
    "\\end{align}\n",
    "where $y$ can take either of the values $0$ and $1$. One approach to learn this estimator is to look for the maximum likelihood estimator. This function can be viewed as a binomial distribution with associated probability $h_{\\mathbf{\\beta}}$. In other words, we want to learn a probability model that makes it very likely to observe samples from class $\\mathcal{C}_1$and very unlikely to observe samples from class $\\mathcal{C}_0$\n",
    "\n",
    "Write a function, which, given a set of samples $\\left\\{\\mathbf{x}_i, t_i\\right\\}$ with $t_i=0$ or $1$, learns the logistic regression classifier through Maximum likelihood.  \n",
    "\n",
    "- Start by deriving the expression for the joint probability of observing the whole dataset $p(\\left\\{\\mathbf{x}_i, t_i\\right\\})$ assuming each of the samples $\\left\\{\\mathbf{x}_i, t_i\\right\\}_{i=1}^N$ are independent\n",
    "- Take the negative log of this probablity and then optimize with gradient descent.\n"
   ]
  },
  {
   "cell_type": "code",
   "execution_count": null,
   "metadata": {
    "collapsed": true
   },
   "outputs": [],
   "source": [
    "def logisticRegression_classifier(X, t):\n",
    "    \n",
    "    '''Complete the function here. Your function should return  '''\n",
    "    "
   ]
  },
  {
   "cell_type": "markdown",
   "metadata": {},
   "source": [
    "### Exercise I.2.2 Gaussian Discriminant Analysis (GDA/LDA)\n",
    "\n",
    "Logistic regression is known as a discriminative classifier because it learns a model for $p(t|\\mathbf{x})$. An alternative would be to learn a model for the (joint) \n",
    "distribution $p(\\mathbf{x}, t|\\mathbf{\\beta})$. As soon as we have a model for the class prior, we can then classify new points using Bayes rule\n",
    "\n",
    "\\begin{align}\n",
    "p(t|\\mathbf{X}) \\propto p(\\mathbf{x}, t)p(t)\n",
    "\\end{align}\n",
    "\n",
    "A popular generative model is Gaussian Discriminant Analysis (also known as Linear Discriminant Analysis). In this model, when considering two classes, we define the probability of observing the samples as \n",
    "\n",
    "\\begin{align}\n",
    "p(\\mathbf{x}|t = 0) &= \\frac{1}{(2\\pi)^{d/2}|\\mathbf{\\Sigma}|^{1/2}}\\exp(-\\frac{1}{2}\\left(\\mathbf{x} - \\mathbf{\\mu}_0\\right)^T\\mathbf{\\Sigma}^{-1}\\left(\\mathbf{x} - \\mathbf{\\mu}_0\\right))\\\\\n",
    "p(\\mathbf{x}|t = 1) &= \\frac{1}{(2\\pi)^{d/2}|\\mathbf{\\Sigma}|^{1/2}}\\exp(-\\frac{1}{2}\\left(\\mathbf{x} - \\mathbf{\\mu}_1\\right)^T\\mathbf{\\Sigma}^{-1}\\left(\\mathbf{x} - \\mathbf{\\mu}_1\\right))\n",
    "\\end{align}\n",
    "\n",
    "The covariance is thus the same but the Gaussians are centered at different points in space. A typical approach for the class prior is to take \n",
    "\n",
    "\\begin{align}\n",
    "p(t=y) = \\phi^y (1-\\phi)^{1-y}\n",
    "\\end{align}\n",
    "\n",
    "for some appropriate $\\phi$. Compute the parameters of the model (including the means $\\mu_1$, $\\mu_0$ and probability $\\phi$ using a maximum likelihood approach). \n",
    "\n"
   ]
  },
  {
   "cell_type": "code",
   "execution_count": null,
   "metadata": {
    "collapsed": true
   },
   "outputs": [],
   "source": [
    "\n",
    "\n",
    "\n",
    "\n",
    "\n",
    "def LinearDiscriminantAnalysis(X, t):\n",
    "    \n",
    "    \n",
    "    '''The function takes as argument a set of sample points and their associated \n",
    "    binary targets and should return the Maximum likelihood parameters for the \n",
    "    LDA classifier '''\n",
    "    \n",
    "    return mu0, mu1, Sigma, phi\n",
    "\n",
    "\n"
   ]
  },
  {
   "cell_type": "markdown",
   "metadata": {},
   "source": [
    "#### Exercise I.2.2.a VIsualizing the discriminant \n",
    "\n",
    "Use a function similar to plot_2DClassification_data used in the OLS classification code below to visualize your discriminant. Also plot the resulting Multivariate gaussian using pyplot.contour()"
   ]
  },
  {
   "cell_type": "code",
   "execution_count": null,
   "metadata": {
    "collapsed": true
   },
   "outputs": [],
   "source": []
  },
  {
   "cell_type": "markdown",
   "metadata": {},
   "source": [
    "### Exercise II. Using least squares for classification \n",
    "\n",
    "__Exercise II.1.Binary OLS classifier__ In this second exercise, we will use least squares to learn a binary classifier.\n",
    "\n",
    " - Start by learning the binary classifier through the normal equations\n",
    " \n",
    " - Then repeat your experiments with the function Ridge classifier. \n",
    " \n",
    " - Still with the ridge classifier, add non linear features. and plot the resulting boundary.\n",
    " \n",
    " \n",
    " Once you have learned the classifier, complete the code below to display the discriminant function and the regions corresponding to each class.\n",
    " "
   ]
  },
  {
   "cell_type": "code",
   "execution_count": 27,
   "metadata": {},
   "outputs": [
    {
     "data": {
      "image/png": "[encoded data removed]",
      "text/plain": [
       "<Figure size 432x288 with 1 Axes>"
      ]
     },
     "metadata": {},
     "output_type": "display_data"
    }
   ],
   "source": [
    "from sklearn.datasets import make_blobs\n",
    "import matplotlib.pyplot as plt\n",
    "\n",
    "X, y = make_blobs(n_samples=100,centers = [[0,0], [1,1]], cluster_std=[0.3, 0.3])\n",
    "\n",
    "X1 = X[y==1,:]\n",
    "y1 = y[y==1]\n",
    "X2 = X[y==0,:]\n",
    "y2 = y[y==0]\n",
    "\n",
    "plt.scatter(X1[:,0], X1[:,1], c='r', alpha = 0.7, edgecolors='black')\n",
    "plt.scatter(X2[:,0], X2[:,1], c='b', alpha = 0.7, edgecolors='black')\n",
    "plt.show()\n"
   ]
  },
  {
   "cell_type": "code",
   "execution_count": null,
   "metadata": {
    "collapsed": true
   },
   "outputs": [],
   "source": [
    "\n",
    "import numpy as np\n",
    "\n",
    "\n",
    "\n",
    "\n",
    "# modify the function below to plot the linear discriminant function corresponding \n",
    "# to the OLS classifier\n",
    "\n",
    "def plot_2DClassification_data(X, y, beta_plane):  \n",
    "    \n",
    "    '''The function assume 2D data. We further assume that the first and second \n",
    "    coordinates are encoded as X[:,0] and X[:,1] respectively '''\n",
    "    \n",
    "    xmin = np.amin(X[:,0])\n",
    "    xmax = np.amax(X[:,0])\n",
    "    ymin = np.amin(X[:,1])\n",
    "    ymax = np.amax(X[:,1])\n",
    "    \n",
    "    xlinspace = np.linspace(xmin, xmax, 100)\n",
    "    ylinspace = np.linspace(ymin, ymax, 100)\n",
    "    \n",
    "    xmesh, ymesh = np.meshgrid(xlinspace, ylinspace, sparse=False, indexing='xy')\n",
    "    \n",
    "    xmesh_vec = xmesh.flatten()\n",
    "    ymesh_vec = xmesh.flatten()\n",
    "    \n",
    "    # Replace with your classifier\n",
    "    \n",
    "    num_points  = X.shape[0]\n",
    "    \n",
    "    \n",
    "    Xprediction = np.hstack((xmesh_vec.reshape(-1,1),ymesh_vec.reshape(-1,1)))\n",
    "    Xmat = np.hstack(Xprediction, np.ones((num_points, 1))\n",
    "                     \n",
    "                     \n",
    "   \n",
    "    # \n",
    "\n",
    "    prediction = np.dot(Xmat, beta_plane.reshape(-1,1))\n",
    "                     \n",
    "    prediction = prediction > 0\n",
    "                     \n",
    "    plt.pcolormesh(xmesh, ymesh, np.reshape(prediction, (len(xlinspace), len(xlinspace))), cmap='red_blue_classes',\n",
    "                   norm=colors.Normalize(0., 1.), zorder=0)\n",
    "    plt.contour(xmesh, ymesh, np.reshape(prediction, (len(xlinspace), len(xlinspace))), [0.5], linewidths=2., colors='white')\n",
    "                     \n",
    "    plt.show()\n"
   ]
  },
  {
   "cell_type": "markdown",
   "metadata": {},
   "source": [
    "__Exercise II.2__. We now want to extend the binary classifier to a multiclass problem. Consider the dataset shown below. Now extend your result from __Exercise II.1__ to this multiclass problem. \n",
    "\n",
    "- First learn a multiclass model by combining several binary classifiers according to the one-vs-rest and one-vs-one approaches.\n",
    "- Then learn the classifier from the normal equations. \n",
    "- Finally use the 'Ridge classifier' from scikit learn. "
   ]
  },
  {
   "cell_type": "code",
   "execution_count": 20,
   "metadata": {},
   "outputs": [
    {
     "data": {
      "image/png": "[encoded data removed]",
      "text/plain": [
       "<Figure size 432x288 with 1 Axes>"
      ]
     },
     "metadata": {},
     "output_type": "display_data"
    }
   ],
   "source": [
    "from sklearn.datasets import make_blobs\n",
    "import matplotlib.pyplot as plt\n",
    "\n",
    "X, y = make_blobs(n_samples=200,cluster_std=[2, 2, 2], random_state = 1)\n",
    "\n",
    "plt.scatter(X[:,0], X[:,1], c=y, alpha = 0.5, edgecolors='black')\n",
    "plt.show()\n",
    "\n"
   ]
  },
  {
   "cell_type": "code",
   "execution_count": null,
   "metadata": {
    "collapsed": true
   },
   "outputs": [],
   "source": [
    "def multiclass(X, t):\n",
    "    \n",
    "    '''Put the definition of your multiclass classifier here. '''\n",
    "    \n",
    "    \n",
    "    \n",
    "    \n",
    "    return beta\n",
    "\n",
    "\n",
    "\n"
   ]
  },
  {
   "cell_type": "markdown",
   "metadata": {},
   "source": [
    "__Exercise II.3 Class imbalance and Synthetic Minority Oversampling Technique (SMOTe)__.\n",
    "\n",
    "In this exercise we will study one approach at resolving the class imbalance problem. Start by installing the imbalance library. Open a terminal and enter the line 'pip install imbalanced-learn'. "
   ]
  },
  {
   "cell_type": "code",
   "execution_count": 15,
   "metadata": {},
   "outputs": [
    {
     "data": {
      "image/png": "[encoded data removed]",
      "text/plain": [
       "<Figure size 432x288 with 1 Axes>"
      ]
     },
     "metadata": {},
     "output_type": "display_data"
    }
   ],
   "source": [
    "import matplotlib.pyplot as plt\n",
    "from sklearn.datasets import make_classification\n",
    "\n",
    "X, y = make_classification(n_samples=1000, n_features=2, n_redundant=0, n_clusters_per_class=1, weights=[0.97], flip_y=0, random_state=1)\n",
    "\n",
    "import collections\n",
    "counter = collections.Counter(y)\n",
    "import numpy as np\n",
    "\n",
    "for label, _ in counter.items():\n",
    "    row_ix = np.where(y == label)[0]\n",
    "    plt.scatter(X[row_ix, 0], X[row_ix, 1], label=str(label))\n",
    "\n",
    "plt.legend()\n",
    "plt.show()\n"
   ]
  },
  {
   "cell_type": "markdown",
   "metadata": {},
   "source": [
    "In Order to learn a valid classifier between the orange and the blue class we would like to generate additional points from the orange class. One possible approach at upsampling particular classes is the SMOT algorithm. SMOTe applies the following three steps to the underrepresented class \n",
    "\n",
    "- __Step 1__ Using $A$ to denote the minority class, for each sample $x$ in $A$, get the $k$-nearest neighbors of $x$ by calculating the Euclidean distance between $x$ and every other sample in $A$\n",
    "\n",
    "- __Step 2__ The sampling rate $N$ is set according to the imbalance proportion. For each $x\\in A$, $N$ samples are randomly selected frmo the nearest neighbors. Let $A_i$ denote each of those sets.  \n",
    "\n",
    "- __ Step 3__ For each sample $x_k\\in A_i$, generate a new point using the following formula\n",
    "$$x' = x + \\text{rand}(0,1)(x-x_k)$$\n",
    "\n",
    "$\\text{rand}(0,1)$ denotes a random number between $0$ and $1$. \n",
    "\n",
    "From the steps above "
   ]
  },
  {
   "cell_type": "markdown",
   "metadata": {},
   "source": [
    "__Apply the SMOTe approach to the dataset shown above for different amounts of SMOTe__ (i.e values of the parameter $N$). Note that, since we generate T*N additional points, a good choice could be to try $N\\approx \\frac{\\text{Majority Class}}{\\text{Minority Class}}$ "
   ]
  },
  {
   "cell_type": "code",
   "execution_count": null,
   "metadata": {
    "collapsed": true
   },
   "outputs": [],
   "source": [
    "# put your answer here \n",
    "\n",
    "\n",
    "\n",
    "\n"
   ]
  },
  {
   "cell_type": "markdown",
   "metadata": {},
   "source": [
    "### Exercise III. Good Wine and healthy heart"
   ]
  },
  {
   "cell_type": "markdown",
   "metadata": {
    "collapsed": true
   },
   "source": [
    "#### Exercise III.1 The risk of cardiovascular disease\n",
    "\n",
    "In this exercise, we will use logistic regression to detect the patients who are more likely to develop a heart disease. Open an account on [Kaggle](https://www.kaggle.com/) and download the [Framingham Heart study dataset](https://www.kaggle.com/amanajmera1/framingham-heart-study-dataset). "
   ]
  },
  {
   "cell_type": "markdown",
   "metadata": {},
   "source": [
    "<img src=\"heartDisease.jpg\" style=\"width: 400px;\"/>"
   ]
  },
  {
   "cell_type": "code",
   "execution_count": null,
   "metadata": {
    "collapsed": true
   },
   "outputs": [],
   "source": [
    "import pandas as pd\n",
    "from sklearn.linear_model import LogisticRegression\n",
    "\n",
    "\n",
    "heart_data = pd.read_csv(\"framingham.csv\")\n",
    "\n",
    "\n",
    "data_pruned = '''add your code here'''\n",
    "\n",
    "\n",
    "\n"
   ]
  },
  {
   "cell_type": "markdown",
   "metadata": {},
   "source": [
    "#### Exercise III.2 Classifying wines with logistic regression. \n",
    "\n",
    "Go to the UCI ML Repository and download the [Wine classification dataset](http://archive.ics.uci.edu/ml/datasets/Wine+Quality). This dataset contains wine samples on which some measurements (acidity, alcohol, sulphates) have been acquired. Each of the sample is then given a quality label between 0 and 10. The problem is thus a 10 class classification problem. Follow the steps below to learn a multi-class logistic regression classifier on the wine dataset\n",
    "\n",
    "\n",
    "- Load the csv file with pandas\n",
    "- Remove the rows for which some of the data might be missing \n",
    "- Once you have pruned the dataset. Split this dataset between a training and a learning part using the 'train_test_split' function from scikit learn\n",
    "- Use the training part to learn the logistic regression classifier (you don't need to code the classifier, simply load the scikit learn module)\n",
    "- Once you have learned the classifier, apply it to your test set and compare your predictions against the true wine labels. Compute your score (Number of correct classifications over validation set size.)"
   ]
  },
  {
   "cell_type": "markdown",
   "metadata": {},
   "source": [
    "<img src=\"wine-tasting.jpeg\" style=\"width: 400px;\"/>"
   ]
  },
  {
   "cell_type": "code",
   "execution_count": null,
   "metadata": {
    "collapsed": true
   },
   "outputs": [],
   "source": [
    "from sklearn.linear_model import LogisticRegression\n",
    "from sklearn.model_selection import train_test_split\n",
    "\n",
    "\n",
    "\n",
    "data = '''load the data from UCI repo'''\n",
    "\n",
    "\n",
    "X_train, X_test, y_train, y_test = train_test_split('''complete with the wine data''')\n",
    "\n",
    "logisticClassifier  = LogisticRegression()\n",
    "logisticClassifier.fit() # complete with your data\n",
    "\n",
    "logisticClassifier.predict() # complete with your data\n",
    "\n",
    "\n"
   ]
  }
 ],
 "metadata": {
  "kernelspec": {
   "display_name": "Python 2",
   "language": "python",
   "name": "python2"
  },
  "language_info": {
   "codemirror_mode": {
    "name": "ipython",
    "version": 2
   },
   "file_extension": ".py",
   "mimetype": "text/x-python",
   "name": "python",
   "nbconvert_exporter": "python",
   "pygments_lexer": "ipython2",
   "version": "2.7.13"
  }
 },
 "nbformat": 4,
 "nbformat_minor": 2
}
