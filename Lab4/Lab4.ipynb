{
 "cells": [
  {
   "cell_type": "markdown",
   "metadata": {},
   "source": [
    "## Introduction to Machine Learning, Lab 4\n",
    "\n",
    "### Kernels and Support Vector Machines"
   ]
  },
  {
   "cell_type": "markdown",
   "metadata": {},
   "source": [
    "### Exercise I. Concentric data\n",
    "\n",
    "#### Exercise I.1. Defining the kernel. \n",
    "\n",
    "Consider the simple dataset below. We want to learn a discriminant for this dataset that would separate the red from the blue class. To do this, start by completing the function 'GaussianKernel' below that should return the value of the Gaussian kernel for two inputs x and y."
   ]
  },
  {
   "cell_type": "code",
   "execution_count": 36,
   "metadata": {},
   "outputs": [
    {
     "data": {
      "image/png": "[encoded data removed]",
      "text/plain": [
       "<Figure size 432x288 with 1 Axes>"
      ]
     },
     "metadata": {},
     "output_type": "display_data"
    }
   ],
   "source": [
    "from sklearn.datasets import make_circles\n",
    "import matplotlib.pyplot as plt\n",
    "import numpy as np\n",
    "\n",
    "\n",
    "numberSamples_circle = 20\n",
    "numberSamples_radius = 5\n",
    "\n",
    "\n",
    "radius1 = 2\n",
    "radius2 = 5\n",
    "\n",
    "col = 0\n",
    "\n",
    "X1 = np.zeros((numberSamples_circle,numberSamples_radius))\n",
    "Y1 = np.zeros((numberSamples_circle,numberSamples_radius))\n",
    "separation = 1\n",
    "\n",
    "for radius11 in np.linspace(0,radius1,numberSamples_radius):\n",
    "    \n",
    "    angle = np.linspace(0,2*np.pi,numberSamples_circle)+ np.random.normal(0,.1,numberSamples_circle)\n",
    "\n",
    "    X1[:,col] = radius11*np.cos(angle) + np.random.normal(0,.2,np.shape(X1)[0])\n",
    "    Y1[:,col] = radius11*np.sin(angle)+ np.random.normal(0,.2,np.shape(Y1)[0])\n",
    "    col+=1\n",
    "    \n",
    "    \n",
    "X2 = np.zeros((numberSamples_circle,numberSamples_radius))\n",
    "Y2 = np.zeros((numberSamples_circle,numberSamples_radius))\n",
    "\n",
    "col = 0\n",
    "\n",
    "for radius22 in np.linspace(radius1+separation,radius2,numberSamples_radius):\n",
    "    \n",
    "    angle = np.linspace(0,2*np.pi,numberSamples_circle)+ np.random.normal(0,.1,numberSamples_circle)\n",
    "\n",
    "    X2[:,col] = radius22*np.cos(angle) + np.random.normal(0,.2,np.shape(X2)[0])\n",
    "    Y2[:,col] = radius22*np.sin(angle)+ np.random.normal(0,.2,np.shape(Y2)[0])\n",
    "    col+=1\n",
    "        \n",
    "\n",
    "    \n",
    "plt.scatter(X1.flatten(), Y1.flatten(), c='r')\n",
    "plt.scatter(X2.flatten(), Y2.flatten(), c='b')\n",
    "\n",
    "plt.show()\n",
    "\n",
    "\n"
   ]
  },
  {
   "cell_type": "code",
   "execution_count": null,
   "metadata": {
    "collapsed": true
   },
   "outputs": [],
   "source": [
    "def GaussianKernel(x, y):\n",
    "    \n",
    "    '''Given two points x and y, the function should return the value of the \n",
    "    Gaussian kernel at (x, y)'''\n",
    "    \n",
    "    \n",
    "    \n",
    "    \n",
    "    \n",
    "    return valueKernel\n",
    "    "
   ]
  },
  {
   "cell_type": "markdown",
   "metadata": {},
   "source": [
    "#### Exercise 2.  Kernel trick and classifier\n",
    "\n",
    "Now that we have the kernel, we want to learn the classifier. We consider the ridge regularized $\\ell_2$ loss. \n",
    "\n",
    "$$\\ell(\\beta) = \\sum_{i=1}^N \\left|t^{(i)} - \\left(\\beta_0 + \\sum_{j=1}^D \\beta_j \\phi(X^{(i)})_j\\right)\\right|^2 + \\lambda \\|\\boldsymbol{\\beta}\\|^2$$\n",
    "\n",
    "By using the kernel trick, we can write this objective as a function of the Kernel instead of the feature vectors $\\phi(X)$. Start by computing the derivative of the loss with respect to w to recover the expression \n",
    "\n",
    "$$\\boldsymbol{\\beta} = -\\frac{1}{\\lambda} \\sum_{i=1}^N \\left(\\boldsymbol{\\beta}^T\\phi(X^{(i)}) - t^{(i)}\\right)\\phi(X^{(i)})$$ \n",
    "\n",
    "We then encode the factors $\\left(\\boldsymbol{\\beta}^T\\phi(X^{(i)}) - t^{(i)}\\right)$ in the scalars $a_i$ as $a_i = \\left(\\boldsymbol{\\beta}^T\\phi(X^{(i)}) - t^{(i)}\\right)$. \n",
    "\n",
    "Substitute this expression for $\\boldsymbol{\\beta}$ in the loss above, to obtain an expression that only depends on $\\boldsymbol{a}$. Show that you get a loss of the form \n",
    "\n",
    "$$J(\\boldsymbol{a}) = \\frac{1}{2}\\boldsymbol{a}^T\\boldsymbol{\\Phi}\\boldsymbol{\\Phi}^T\\boldsymbol{\\Phi}\\boldsymbol{\\Phi}^T\\boldsymbol{a} - \\boldsymbol{a}^T\\boldsymbol{\\Phi}\\boldsymbol{\\Phi}^T\\boldsymbol{t} + \\frac{1}{2}\\boldsymbol{t}^T\\boldsymbol{t} + \\frac{\\lambda}{2}\\boldsymbol{a}^T\\boldsymbol{\\Phi}\\boldsymbol{\\Phi}^T\\boldsymbol{a}$$\n",
    "\n",
    "##### Exercise 2.1 \n",
    "\n",
    "Use $\\boldsymbol{\\Phi}\\boldsymbol{\\Phi}^T = \\boldsymbol{K}$ and solve the resulting loss through Gradient descent."
   ]
  },
  {
   "cell_type": "code",
   "execution_count": null,
   "metadata": {
    "collapsed": true
   },
   "outputs": [],
   "source": []
  },
  {
   "cell_type": "markdown",
   "metadata": {},
   "source": [
    "##### Exercise 2.2 \n",
    "\n",
    "Just as we used the Normal equations to obtain a closed form expression for $\\boldsymbol{\\beta}$, you can get set the derivative of $\\ell(\\boldsymbol{a})$ to get a closed form expression for this vector. Do this below."
   ]
  },
  {
   "cell_type": "code",
   "execution_count": null,
   "metadata": {
    "collapsed": true
   },
   "outputs": [],
   "source": []
  },
  {
   "cell_type": "markdown",
   "metadata": {},
   "source": [
    "##### Exercise 2.3\n",
    "\n",
    "Display your classifier using meshgrid "
   ]
  },
  {
   "cell_type": "code",
   "execution_count": null,
   "metadata": {
    "collapsed": true
   },
   "outputs": [],
   "source": []
  }
 ],
 "metadata": {
  "kernelspec": {
   "display_name": "Python 2",
   "language": "python",
   "name": "python2"
  },
  "language_info": {
   "codemirror_mode": {
    "name": "ipython",
    "version": 2
   },
   "file_extension": ".py",
   "mimetype": "text/x-python",
   "name": "python",
   "nbconvert_exporter": "python",
   "pygments_lexer": "ipython2",
   "version": "2.7.13"
  }
 },
 "nbformat": 4,
 "nbformat_minor": 2
}
