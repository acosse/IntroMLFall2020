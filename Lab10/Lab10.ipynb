{
 "cells": [
  {
   "cell_type": "markdown",
   "metadata": {},
   "source": [
    "### Latent variable Model (part III)"
   ]
  },
  {
   "cell_type": "markdown",
   "metadata": {},
   "source": [
    "#### Part I: Fast ICA\n",
    "\n",
    "The Fast ICA algorithm tries to recover independent sources from their mixture by looking for the inverse $\\mathbf{W}$ of the mixing matrix $\\mathbf{A}$ such that $\\mathbf{W}\\mathbf{x} = \\mathbf{s}$ by maximizing the kurtosis of the the signals $\\mathbf{W}\\mathbf{x}$. before studying recovery through FastICA, generate a set of points following the laplace (supergaussian) gaussian and uniform (subgaussian) distributions. Then compute the kurtosis of the set of points using the stats library."
   ]
  },
  {
   "cell_type": "code",
   "execution_count": null,
   "metadata": {
    "collapsed": true
   },
   "outputs": [],
   "source": [
    "from scipy.stats import kurtosis\n",
    "\n",
    "# put your code here \n",
    "\n",
    "\n"
   ]
  },
  {
   "cell_type": "markdown",
   "metadata": {},
   "source": [
    "Concretely, FastICA relies on the following steps:\n",
    "\n",
    "\n",
    "1- Whiten the data. This can be done through PCA by computing the eigenvalue decomposition of the covariance matrix $\\frac{1}{N}\\sum_{i=1}^N \\mathbf{x}^{(i)}\\mathbf{x}^{(i), T}$\n",
    "\n",
    "2- Compute the rows of the demixing matrix $\\mathbf{W}$, starting with a random initial vector $\\mathbf{w}$, as follows \n",
    "\n",
    "   - $\\mathbf{w}^+ = \\mathbb{E}_N \\left\\{(\\mathbf{w}^T\\mathbf{z})^3\\mathbf{z} - 3\\mathbf{w}\\|\\mathbf{w}\\|^2\\right\\}$\n",
    "    \n",
    "   - $\\mathbf{w}^+ = \\mathbf{w}^+ - \\sum_{i=1}^p \\mathbf{w}_i\\mathbf{w}_i^T\\mathbf{w}^+$\n",
    "    \n",
    "   - $\\mathbf{w} = \\frac{\\mathbf{w}^+}{\\|\\mathbf{w}^+\\|}$"
   ]
  },
  {
   "cell_type": "markdown",
   "metadata": {},
   "source": [
    "Code an apply the fastICA iterations to two sources generated from Laplace distribubtions. Study the evolution of $\\mathbf{W}$ as the number of samples increases. "
   ]
  },
  {
   "cell_type": "code",
   "execution_count": null,
   "metadata": {
    "collapsed": true
   },
   "outputs": [],
   "source": [
    "# put your code here\n",
    "\n"
   ]
  },
  {
   "cell_type": "markdown",
   "metadata": {},
   "source": [
    "A more general form of the FastICA algorithm can be defined for a general function $g$ as shown below. \n",
    "\n",
    "1- Whiten the data. This can be done through PCA by computing the eigenvalue decomposition of the covariance matrix $\\frac{1}{N}\\sum_{i=1}^N \\mathbf{x}^{(i)}\\mathbf{x}^{(i), T}$\n",
    "\n",
    "2- Compute the rows of the demixing matrix $\\mathbf{W}$, starting with a random initial vector $\\mathbf{w}$, as follows \n",
    "\n",
    "   - $\\mathbf{w}^+ = \\mathbb{E}_N \\left\\{g(\\mathbf{w}^T\\mathbf{z})\\mathbf{z} - \\mathbf{w}g'(\\mathbf{w}^T\\mathbf{z})'\\right\\}$\n",
    "    \n",
    "   - $\\mathbf{w}^+ = \\mathbf{w}^+ - \\sum_{i=1}^p \\mathbf{w}_i\\mathbf{w}_i^T\\mathbf{w}^+$\n",
    "    \n",
    "   - $\\mathbf{w} = \\frac{\\mathbf{w}^+}{\\|\\mathbf{w}^+\\|}$\n",
    "   \n",
    "A typical choice for the function $g$ and its derivative is the hyperbolic tangent, $g(x) = \\text{tanh}(x)$ and $g'(x) = 1- \\text{tanh}^2(x)$. Extend your algorithm with a parameter that can switch between kurtosis ($g'(x) = x^3$) and $g'(x) = \\text{tanh}(x)$"
   ]
  },
  {
   "cell_type": "code",
   "execution_count": null,
   "metadata": {
    "collapsed": true
   },
   "outputs": [],
   "source": [
    "# Put your code here\n",
    "\n"
   ]
  },
  {
   "cell_type": "markdown",
   "metadata": {},
   "source": [
    "Apply the FastICA to the sound signals used in Lab8 and study the evoution of the recovered matrix as the number of samples increases. "
   ]
  },
  {
   "cell_type": "code",
   "execution_count": null,
   "metadata": {
    "collapsed": true
   },
   "outputs": [],
   "source": [
    "# put your code here\n",
    "\n"
   ]
  },
  {
   "cell_type": "markdown",
   "metadata": {},
   "source": [
    "#### Part II: ISOMAP\n",
    "\n",
    "Consider the dataset given below. ISOmetric feature MAPoing computes a representation of the dataset by relying on geodesic distances. ISOMAP can be summarized as follows:\n",
    "\n",
    "- Build a graph by relying the $\\varepsilon$ rule of the $K$ rule\n",
    "- Weight the graph. by labelling each edge with its euclidean length\n",
    "- Compute each pairwise distance by using Dijkstra's algorithm, square them and store them in the distance matrix $\\mathbf{D}$.  \n",
    "- Convert the distance matrix into a similarity (scalar product) matrix by using the double centering step \n",
    "\n",
    "$$\\mathbf{S} = -\\frac{1}{2}(\\mathbf{I} - \\frac{1}{N}\\mathbf{1}\\mathbf{1}^T)\\mathbf{D}(\\mathbf{I} - \\frac{1}{N}\\mathbf{1}\\mathbf{1}^T)$$\n",
    "\n",
    "- Once the similarity matrix is known, compute its spectral decomposition $\\mathbf{S} = \\mathbf{U}\\mathbf{\\Lambda}\\mathbf{U}^T$\n",
    "- The $p$-dimensional representation of the original dataset is obtained by retaining the first k principal components \n",
    "$$\\hat{\\mathbf{X}} = \\mathbf{I}_{P\\times N}\\mathbf{\\Lambda}^{1/2}\\mathbf{U}^T$$\n",
    "\n",
    "In the $K$ rule, each point is connected to the $K$ closest points. In the epsilon rule, each point is connected to all the other points lying in an $\\epsilon$ ball centered on $\\mathbf{x}^{(i)}$. \n",
    "\n",
    "Find a one dimensional representation of this dataset through PCA first and then ISOMAP. Draw the ISOMAP graph on top of the data. "
   ]
  },
  {
   "cell_type": "code",
   "execution_count": 7,
   "metadata": {},
   "outputs": [
    {
     "data": {
      "image/png": "[encoded data removed]",
      "text/plain": [
       "<Figure size 432x288 with 1 Axes>"
      ]
     },
     "metadata": {},
     "output_type": "display_data"
    }
   ],
   "source": [
    "import scipy.io\n",
    "dataClass1 = scipy.io.loadmat('pointsClass1demoISOMAP.mat')['pointsClass1demoISOMAP']\n",
    "dataClass2 = scipy.io.loadmat('pointsClass2demoISOMAP.mat')['pointsClass2demoISOMAP']\n",
    "\n",
    "import matplotlib.pyplot as plt\n",
    "import numpy as np\n",
    "\n",
    "plt.scatter(dataClass1[:,0], dataClass1[:,1], c='b')\n",
    "plt.scatter(dataClass2[:,0], dataClass2[:,1], c='r')\n",
    "plt.show()\n"
   ]
  }
 ],
 "metadata": {
  "kernelspec": {
   "display_name": "Python 2",
   "language": "python",
   "name": "python2"
  },
  "language_info": {
   "codemirror_mode": {
    "name": "ipython",
    "version": 2
   },
   "file_extension": ".py",
   "mimetype": "text/x-python",
   "name": "python",
   "nbconvert_exporter": "python",
   "pygments_lexer": "ipython2",
   "version": "2.7.13"
  }
 },
 "nbformat": 4,
 "nbformat_minor": 2
}
